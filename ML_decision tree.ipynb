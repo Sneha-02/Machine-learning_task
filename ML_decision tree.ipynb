{
 "cells": [
  {
   "cell_type": "code",
   "execution_count": 14,
   "id": "f39f0abd",
   "metadata": {},
   "outputs": [],
   "source": [
    "import pandas as pd\n",
    "from sklearn.model_selection import train_test_split\n",
    "from sklearn.tree import DecisionTreeClassifier\n",
    "from sklearn import metrics\n",
    "from sklearn.model_selection import cross_val_score\n",
    "#read data into dataframe\n",
    "data = pd.read_csv ('train.csv')"
   ]
  },
  {
   "cell_type": "code",
   "execution_count": 16,
   "id": "46942546",
   "metadata": {},
   "outputs": [
    {
     "name": "stdout",
     "output_type": "stream",
     "text": [
      "   baseline value  accelerations  fetal_movement  uterine_contractions  \\\n",
      "0             142          0.000           0.000                 0.007   \n",
      "1             122          0.000           0.000                 0.006   \n",
      "2             129          0.005           0.003                 0.001   \n",
      "3             136          0.006           0.000                 0.008   \n",
      "4             144          0.000           0.000                 0.006   \n",
      "\n",
      "   light_decelerations  severe_decelerations  prolongued_decelerations  \\\n",
      "0                0.000                   0.0                       0.0   \n",
      "1                0.002                   0.0                       0.0   \n",
      "2                0.000                   0.0                       0.0   \n",
      "3                0.000                   0.0                       0.0   \n",
      "4                0.000                   0.0                       0.0   \n",
      "\n",
      "   abnormal_short_term_variability  mean_value_of_short_term_variability  \\\n",
      "0                               58                                   0.4   \n",
      "1                               27                                   1.4   \n",
      "2                               34                                   1.7   \n",
      "3                               45                                   0.8   \n",
      "4                               32                                   1.0   \n",
      "\n",
      "   percentage_of_time_with_abnormal_long_term_variability  ...  histogram_min  \\\n",
      "0                                                  9       ...            136   \n",
      "1                                                  4       ...             91   \n",
      "2                                                  0       ...             78   \n",
      "3                                                  2       ...            129   \n",
      "4                                                  0       ...            122   \n",
      "\n",
      "   histogram_max  histogram_number_of_peaks  histogram_number_of_zeroes  \\\n",
      "0            156                          0                           0   \n",
      "1            144                          4                           0   \n",
      "2            196                         10                           0   \n",
      "3            158                          2                           0   \n",
      "4            160                          1                           0   \n",
      "\n",
      "   histogram_mode  histogram_mean  histogram_median  histogram_variance  \\\n",
      "0             148             147               149                   1   \n",
      "1             126             120               122                   6   \n",
      "2             137             136               137                   6   \n",
      "3             144             143               145                   1   \n",
      "4             150             147               149                   2   \n",
      "\n",
      "   histogram_tendency  fetal_health  \n",
      "0                   0             1  \n",
      "1                   0             1  \n",
      "2                   0             1  \n",
      "3                   0             1  \n",
      "4                   1             1  \n",
      "\n",
      "[5 rows x 22 columns]\n"
     ]
    }
   ],
   "source": [
    "print(data.head())"
   ]
  },
  {
   "cell_type": "code",
   "execution_count": 17,
   "id": "29164d6b",
   "metadata": {},
   "outputs": [],
   "source": [
    "Y = data.fetal_health\n",
    "X = data.drop('fetal_health',axis=1)\n",
    "train_X, test_X, train_Y, test_Y = train_test_split(X,Y, test_size = 0.2)"
   ]
  },
  {
   "cell_type": "code",
   "execution_count": 18,
   "id": "076210f5",
   "metadata": {},
   "outputs": [
    {
     "name": "stdout",
     "output_type": "stream",
     "text": [
      "train_X (1360, 21)\n",
      "train_Y (1360,)\n",
      "test_X (340, 21)\n",
      "test_Y (340,)\n"
     ]
    }
   ],
   "source": [
    "print('train_X', train_X.shape)\n",
    "print('train_Y', train_Y.shape)\n",
    "print('test_X', test_X.shape)\n",
    "print('test_Y', test_Y.shape)"
   ]
  },
  {
   "cell_type": "code",
   "execution_count": 22,
   "id": "2912df21",
   "metadata": {},
   "outputs": [
    {
     "data": {
      "text/plain": [
       "DecisionTreeClassifier()"
      ]
     },
     "execution_count": 22,
     "metadata": {},
     "output_type": "execute_result"
    }
   ],
   "source": [
    "#decide on the model\n",
    "model = DecisionTreeClassifier()\n",
    "# fit the model to the training set\n",
    "model.fit(train_X, train_Y)"
   ]
  },
  {
   "cell_type": "code",
   "execution_count": 23,
   "id": "50e5bc61",
   "metadata": {},
   "outputs": [],
   "source": [
    "Y = data.fetal_health\n",
    "X = data.drop('fetal_health',axis=1)\n",
    "train_X, test_X, train_Y, test_Y = train_test_split(X,Y, test_size = 0.2)"
   ]
  },
  {
   "cell_type": "code",
   "execution_count": 24,
   "id": "ca7fdbd5",
   "metadata": {},
   "outputs": [
    {
     "name": "stdout",
     "output_type": "stream",
     "text": [
      "Accuracy: 97%\n"
     ]
    }
   ],
   "source": [
    "from sklearn.metrics import accuracy_score\n",
    "#using the trained model predict the output of the text_X input values\n",
    "y_pred = model.predict(test_X)\n",
    "# Model Accuracy, how often is the classifier correct?\n",
    "print(\"Accuracy: {:.0f}%\".format(accuracy_score(test_Y, y_pred)*100))"
   ]
  },
  {
   "cell_type": "code",
   "execution_count": 25,
   "id": "95d4ae40",
   "metadata": {},
   "outputs": [
    {
     "name": "stdout",
     "output_type": "stream",
     "text": [
      "Validation_test (426, 21)\n"
     ]
    }
   ],
   "source": [
    "Validation_test = pd.read_csv('test.csv') \n",
    "print('Validation_test',Validation_test.shape)"
   ]
  },
  {
   "cell_type": "code",
   "execution_count": 26,
   "id": "9332973e",
   "metadata": {},
   "outputs": [
    {
     "data": {
      "text/plain": [
       "array([1, 1, 1, 1, 3, 1, 1, 1, 1, 1, 1, 1, 1, 1, 1, 1, 2, 1, 1, 2, 1, 3,\n",
       "       2, 1, 1, 3, 1, 1, 1, 3, 2, 1, 1, 3, 3, 2, 1, 1, 2, 2, 2, 1, 1, 1,\n",
       "       1, 1, 1, 3, 1, 1, 1, 1, 1, 1, 1, 1, 1, 1, 2, 2, 1, 1, 1, 1, 1, 2,\n",
       "       1, 1, 1, 2, 1, 1, 1, 2, 1, 1, 1, 1, 1, 2, 1, 3, 1, 1, 1, 1, 1, 1,\n",
       "       1, 1, 3, 1, 1, 2, 1, 2, 1, 3, 1, 1, 3, 2, 1, 1, 1, 1, 1, 1, 1, 1,\n",
       "       2, 1, 1, 1, 1, 1, 2, 1, 1, 1, 1, 1, 1, 3, 1, 1, 1, 1, 1, 2, 1, 1,\n",
       "       1, 1, 1, 1, 1, 1, 1, 1, 1, 1, 1, 1, 1, 1, 1, 1, 1, 1, 1, 3, 1, 2,\n",
       "       1, 3, 2, 2, 1, 1, 1, 3, 1, 2, 1, 1, 2, 1, 1, 1, 3, 1, 1, 1, 1, 1,\n",
       "       1, 1, 1, 1, 1, 1, 1, 1, 1, 2, 1, 1, 1, 3, 2, 1, 1, 1, 1, 1, 2, 1,\n",
       "       1, 3, 1, 1, 1, 1, 1, 1, 1, 1, 1, 1, 1, 1, 1, 1, 2, 1, 1, 3, 1, 1,\n",
       "       1, 1, 2, 1, 1, 1, 1, 1, 2, 2, 1, 1, 1, 1, 1, 1, 1, 1, 1, 1, 1, 3,\n",
       "       1, 1, 1, 1, 1, 1, 1, 1, 1, 1, 1, 1, 1, 3, 2, 3, 1, 1, 1, 1, 1, 1,\n",
       "       1, 1, 1, 1, 1, 1, 3, 1, 1, 2, 1, 1, 1, 1, 1, 1, 3, 1, 1, 1, 1, 3,\n",
       "       1, 2, 2, 1, 1, 3, 1, 1, 1, 3, 1, 1, 1, 1, 3, 1, 1, 1, 3, 1, 1, 1,\n",
       "       1, 1, 1, 1, 1, 1, 1, 1, 1, 2, 1, 1, 1, 1, 1, 1, 1, 3, 1, 1, 1, 2,\n",
       "       1, 1, 1, 3, 2, 2, 1, 1, 1, 1, 1, 1, 1, 1, 1, 1, 2, 1, 2, 1, 1, 1,\n",
       "       2, 1, 1, 1, 1, 1, 1, 3, 1, 2, 1, 1, 1, 1, 1, 1, 1, 1, 1, 1, 2, 1,\n",
       "       2, 1, 1, 1, 1, 1, 1, 1, 1, 1, 1, 2, 1, 1, 1, 2, 2, 1, 1, 2, 1, 1,\n",
       "       1, 1, 1, 2, 1, 2, 1, 1, 1, 2, 1, 1, 1, 2, 1, 1, 1, 1, 3, 2, 2, 1,\n",
       "       1, 1, 3, 1, 1, 1, 1, 1], dtype=int64)"
      ]
     },
     "execution_count": 26,
     "metadata": {},
     "output_type": "execute_result"
    }
   ],
   "source": [
    "val_pred =model.predict(Validation_test)\n",
    "\n",
    "val_pred"
   ]
  },
  {
   "cell_type": "code",
   "execution_count": 27,
   "id": "340fff58",
   "metadata": {},
   "outputs": [
    {
     "name": "stdout",
     "output_type": "stream",
     "text": [
      "   0    1    2    3    4    5    6    7    8    9    ...  416  417  418  419  \\\n",
      "0    1    1    1    1    3    1    1    1    1    1  ...    2    1    1    1   \n",
      "\n",
      "   420  421  422  423  424  425  \n",
      "0    3    1    1    1    1    1  \n",
      "\n",
      "[1 rows x 426 columns]\n"
     ]
    }
   ],
   "source": [
    "output=[val_pred]\n",
    "df=pd.DataFrame(output)\n",
    "new=df.to_csv(r'output.csv',index=None,header=True)\n",
    "print(df)"
   ]
  },
  {
   "cell_type": "code",
   "execution_count": null,
   "id": "ba1b3bd4",
   "metadata": {},
   "outputs": [],
   "source": []
  }
 ],
 "metadata": {
  "kernelspec": {
   "display_name": "Python 3 (ipykernel)",
   "language": "python",
   "name": "python3"
  },
  "language_info": {
   "codemirror_mode": {
    "name": "ipython",
    "version": 3
   },
   "file_extension": ".py",
   "mimetype": "text/x-python",
   "name": "python",
   "nbconvert_exporter": "python",
   "pygments_lexer": "ipython3",
   "version": "3.7.0"
  }
 },
 "nbformat": 4,
 "nbformat_minor": 5
}
